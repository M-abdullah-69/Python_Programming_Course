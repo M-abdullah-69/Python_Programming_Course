{
 "cells": [
  {
   "cell_type": "markdown",
   "metadata": {},
   "source": [
    "Python Assignment 3"
   ]
  },
  {
   "cell_type": "code",
   "execution_count": null,
   "metadata": {},
   "outputs": [],
   "source": [
    "#Write a Python program to print the following string in a specific format (see the output)."
   ]
  },
  {
   "cell_type": "code",
   "execution_count": 10,
   "metadata": {},
   "outputs": [
    {
     "name": "stdout",
     "output_type": "stream",
     "text": [
      "Twinkle, twinkle, little star,\n",
      "    How I wonder what you are!\n",
      "        Up above the world so high,\n",
      "        Like a diamond in the sky.\n",
      "\n",
      "Twinkle, twinkle, little star,\n",
      "    How I wonder what you are\n"
     ]
    }
   ],
   "source": [
    "print(\"\"\"Twinkle, twinkle, little star,\n",
    "    How I wonder what you are!\n",
    "        Up above the world so high,\n",
    "        Like a diamond in the sky.\n",
    "\n",
    "Twinkle, twinkle, little star,\n",
    "    How I wonder what you are\"\"\")"
   ]
  },
  {
   "cell_type": "code",
   "execution_count": null,
   "metadata": {},
   "outputs": [],
   "source": [
    "#Write a Python program to get the Python version you are using"
   ]
  },
  {
   "cell_type": "code",
   "execution_count": 9,
   "metadata": {},
   "outputs": [
    {
     "name": "stdout",
     "output_type": "stream",
     "text": [
      "3.8.3\n"
     ]
    }
   ],
   "source": [
    "from platform import python_version\n",
    "\n",
    "print(python_version())"
   ]
  },
  {
   "cell_type": "code",
   "execution_count": null,
   "metadata": {},
   "outputs": [],
   "source": [
    "#Write a Python program to display the current date and time."
   ]
  },
  {
   "cell_type": "code",
   "execution_count": 25,
   "metadata": {},
   "outputs": [
    {
     "name": "stdout",
     "output_type": "stream",
     "text": [
      "2021-10-24 15:31:29.441207\n"
     ]
    }
   ],
   "source": [
    "import datetime as d\n",
    "print(datetime.datetime.now())"
   ]
  },
  {
   "cell_type": "code",
   "execution_count": 27,
   "metadata": {},
   "outputs": [],
   "source": [
    "#Write a Python program which accepts the radius of a circle from the user and compute the area."
   ]
  },
  {
   "cell_type": "code",
   "execution_count": 30,
   "metadata": {},
   "outputs": [
    {
     "name": "stdin",
     "output_type": "stream",
     "text": [
      "Enter radius of the circle:  3\n"
     ]
    },
    {
     "name": "stdout",
     "output_type": "stream",
     "text": [
      "28.26\n"
     ]
    }
   ],
   "source": [
    "r = int(input(\"Enter radius of the circle: \"))\n",
    "print(3.14*(r)**2)"
   ]
  },
  {
   "cell_type": "code",
   "execution_count": 31,
   "metadata": {},
   "outputs": [],
   "source": [
    "#Write a Python program which accepts the user's first and last name and print them in reverse \n",
    "#order with a space between them."
   ]
  },
  {
   "cell_type": "code",
   "execution_count": 32,
   "metadata": {},
   "outputs": [
    {
     "name": "stdin",
     "output_type": "stream",
     "text": [
      "Enter your first name:  abd\n",
      "Enter your last name:  ari\n"
     ]
    },
    {
     "name": "stdout",
     "output_type": "stream",
     "text": [
      "ira dba\n"
     ]
    }
   ],
   "source": [
    "first = input(\"Enter your first name: \")\n",
    "last = input(\"Enter your last name: \")\n",
    "print(last[::-1] , first[::-1])"
   ]
  },
  {
   "cell_type": "code",
   "execution_count": 33,
   "metadata": {},
   "outputs": [],
   "source": [
    "#Write a python program which takes two inputs from user and print them addition"
   ]
  },
  {
   "cell_type": "code",
   "execution_count": 37,
   "metadata": {},
   "outputs": [
    {
     "name": "stdin",
     "output_type": "stream",
     "text": [
      "Enter the first number:  4.4\n",
      "Enter the second number:  22.2\n"
     ]
    },
    {
     "name": "stdout",
     "output_type": "stream",
     "text": [
      "The addition of two numbers are:  26.6\n"
     ]
    }
   ],
   "source": [
    "a = eval(input(\"Enter the first number: \"))\n",
    "b = eval(input(\"Enter the second number: \"))\n",
    "print(\"The addition of two numbers are: \",a+b)"
   ]
  },
  {
   "cell_type": "code",
   "execution_count": 38,
   "metadata": {},
   "outputs": [],
   "source": [
    "#Write a program which takes 5 inputs from user for different subject’s marks, total it\n",
    "#and generate mark sheet using grades ?"
   ]
  },
  {
   "cell_type": "code",
   "execution_count": 41,
   "metadata": {},
   "outputs": [
    {
     "name": "stdin",
     "output_type": "stream",
     "text": [
      "Enter your name:  Abdullah\n",
      "Enter first subject marks out of 100 :  78\n",
      "Enter second subject marks out of 100 :  79\n",
      "Enter third subject marks out of 100 :  89\n",
      "Enter fourth subject marks out of 100 :  90\n",
      "Enter fifth subject marks out of 100 :  78\n"
     ]
    },
    {
     "name": "stdout",
     "output_type": "stream",
     "text": [
      "Marksheet Of The Student :  Abdullah\n",
      "_________________________________\n",
      "\n",
      "first subject marks out of 100   :  78\n",
      "second subject marks out of 100 :  79\n",
      "third subject marks out of 100  :  89\n",
      "fourth subject marks out of 100 :  90\n",
      "fifth subject marks out of 100   :  78\n",
      "__________________________________\n",
      "\n",
      "The total of all the subjects are:  414\n",
      "Percentage                       :  82.8 %\n",
      "Grade                            :  A+\n"
     ]
    }
   ],
   "source": [
    "name = input(\"Enter your name: \")\n",
    "first = int(input(\"Enter first subject marks out of 100 : \"))\n",
    "second = int(input(\"Enter second subject marks out of 100 : \"))\n",
    "third = int(input(\"Enter third subject marks out of 100 : \"))\n",
    "fourth = int(input(\"Enter fourth subject marks out of 100 : \"))\n",
    "fifth = int(input(\"Enter fifth subject marks out of 100 : \"))\n",
    "total = first+second+third+fourth+fifth\n",
    "perc = (total / 500) *100\n",
    "\n",
    "if perc>80 :\n",
    "    grade = \"A+\"\n",
    "elif perc>70:\n",
    "    grade = \"A\"\n",
    "elif perc>60:\n",
    "    grade = \"B\"\n",
    "elif perc>50:\n",
    "    grade = \"C\"\n",
    "elif perc>40:\n",
    "    grade = \"D\"\n",
    "else:\n",
    "    grade = \"F\"\n",
    "    \n",
    "print(\"\\nMarksheet Of The Student : \",name)\n",
    "print(\"_________________________________\\n\")\n",
    "print(\"first subject marks out of 100   : \",first)\n",
    "print(\"second subject marks out of 100 : \",second)\n",
    "print(\"third subject marks out of 100  : \",third)\n",
    "print(\"fourth subject marks out of 100 : \",fourth)\n",
    "print(\"fifth subject marks out of 100   : \",fifth)\n",
    "print(\"__________________________________\\n\")\n",
    "print(\"The total of all the subjects are: \",total)\n",
    "print(\"Percentage                       : \",perc,\"%\")\n",
    "print(\"Grade                            : \",grade)"
   ]
  },
  {
   "cell_type": "code",
   "execution_count": 42,
   "metadata": {},
   "outputs": [],
   "source": [
    "#Write a program which take input from user and identify that the given number is even or odd?"
   ]
  },
  {
   "cell_type": "code",
   "execution_count": 52,
   "metadata": {},
   "outputs": [
    {
     "name": "stdin",
     "output_type": "stream",
     "text": [
      "Enter a number to find even or odd:  33\n"
     ]
    },
    {
     "name": "stdout",
     "output_type": "stream",
     "text": [
      "Odd\n"
     ]
    }
   ],
   "source": [
    "try:\n",
    "    num = int(input(\"Enter a number to find even or odd: \"))\n",
    "    if num%2 == 0:\n",
    "        print(\"Its even\")\n",
    "    else:\n",
    "        print(\"Odd\")\n",
    "except:\n",
    "    print(\"\\nEnter an integer number\\nThankYou\")\n"
   ]
  },
  {
   "cell_type": "code",
   "execution_count": null,
   "metadata": {},
   "outputs": [],
   "source": [
    "# Write a program which print the length of the list?"
   ]
  },
  {
   "cell_type": "code",
   "execution_count": 58,
   "metadata": {},
   "outputs": [
    {
     "name": "stdout",
     "output_type": "stream",
     "text": [
      "The length of list lst :  6\n"
     ]
    }
   ],
   "source": [
    "lst = [1,2,3,4,5,6]\n",
    "print(\"The length of list lst : \",len(lst))"
   ]
  },
  {
   "cell_type": "code",
   "execution_count": null,
   "metadata": {},
   "outputs": [],
   "source": [
    "# Write a Python program to sum all the numeric items in a list?"
   ]
  },
  {
   "cell_type": "code",
   "execution_count": 63,
   "metadata": {},
   "outputs": [
    {
     "name": "stdout",
     "output_type": "stream",
     "text": [
      "The sum of all the numeric items in the list are:  15\n",
      "[1, 2, 3, 4, 5]\n"
     ]
    }
   ],
   "source": [
    "lst_sum = [1,2,3,4,5,\"Sum\",\"8\"]\n",
    "lst_num = []\n",
    "total = 0\n",
    "for i in lst_sum:\n",
    "    if isinstance(i , int):\n",
    "        lst_num.append(i)\n",
    "for j in lst_num:\n",
    "    total+=j\n",
    "print(\"The sum of all the numeric items in the list are: \",total)\n",
    "print(lst_num)"
   ]
  },
  {
   "cell_type": "code",
   "execution_count": 64,
   "metadata": {},
   "outputs": [],
   "source": [
    "# 11.Write a Python program to get the largest number from a numeric list."
   ]
  },
  {
   "cell_type": "code",
   "execution_count": 65,
   "metadata": {},
   "outputs": [
    {
     "name": "stdout",
     "output_type": "stream",
     "text": [
      "77\n"
     ]
    }
   ],
   "source": [
    "lst_max = [1,2,4,11,44,5,67,77]\n",
    "print(max(lst_max))"
   ]
  },
  {
   "cell_type": "code",
   "execution_count": 66,
   "metadata": {},
   "outputs": [
    {
     "data": {
      "text/plain": [
       "'Take a list, say for example this one:\\na = [1, 1, 2, 3, 5, 8, 13, 21, 34, 55, 89]\\nWrite a program that prints out all the elements of the list that are less than 5.'"
      ]
     },
     "execution_count": 66,
     "metadata": {},
     "output_type": "execute_result"
    }
   ],
   "source": [
    "#Take a list, say for example this one:\n",
    "#a = [1, 1, 2, 3, 5, 8, 13, 21, 34, 55, 89]\n",
    "#Write a program that prints out all the elements of the list that are less than 5."
   ]
  },
  {
   "cell_type": "code",
   "execution_count": 69,
   "metadata": {},
   "outputs": [
    {
     "name": "stdout",
     "output_type": "stream",
     "text": [
      "[1, 1, 2, 3, 4]\n"
     ]
    }
   ],
   "source": [
    "a = [1, 1, 2, 3, 5, 8, 13, 21, 34, 55, 89, 4]\n",
    "b = []\n",
    "for i in a:\n",
    "    if i < 5:\n",
    "        b.append(i)\n",
    "print(b)"
   ]
  },
  {
   "cell_type": "code",
   "execution_count": null,
   "metadata": {},
   "outputs": [],
   "source": []
  }
 ],
 "metadata": {
  "kernelspec": {
   "display_name": "Python 3",
   "language": "python",
   "name": "python3"
  },
  "language_info": {
   "codemirror_mode": {
    "name": "ipython",
    "version": 3
   },
   "file_extension": ".py",
   "mimetype": "text/x-python",
   "name": "python",
   "nbconvert_exporter": "python",
   "pygments_lexer": "ipython3",
   "version": "3.8.3"
  }
 },
 "nbformat": 4,
 "nbformat_minor": 4
}
